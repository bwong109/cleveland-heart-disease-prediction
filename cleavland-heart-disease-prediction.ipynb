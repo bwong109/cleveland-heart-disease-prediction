{
 "cells": [
  {
   "cell_type": "code",
   "execution_count": null,
   "id": "ca07cc2d",
   "metadata": {},
   "outputs": [],
   "source": [
    "import pandas as pd\n",
    "import numpy as np\n",
    "from sklearn.neural_network import MLPClassifier\n",
    "from sklearn.model_selection import train_test_split\n",
    "from sklearn.metrics import accuracy_score, precision_score, recall_score, f1_score\n",
    "from sklearn.preprocessing import StandardScaler"
   ]
  },
  {
   "cell_type": "code",
   "execution_count": null,
   "id": "063001da",
   "metadata": {},
   "outputs": [],
   "source": [
    "data = pd.read_csv(\"../resource/asnlib/publicdata/cleveland.data.csv\")\n",
    "\n",
    "# Clean data by handling missing values\n",
    "data.dropna(inplace=True)\n",
    "\n",
    "# Turn \"num\" into a binary feature\n",
    "data['binaryNum'] = data['num'].apply(lambda x : 1 if x > 0 else 0)\n",
    "\n",
    "# Remove any rows with \"?\" as a value\n",
    "data.replace('?', np.nan, inplace=True)\n",
    "data.dropna(inplace=True)\n",
    "\n",
    "# Standardize the features\n",
    "X = data.drop(columns=['num', 'binaryNum'])\n",
    "y = data['binaryNum']\n",
    "\n",
    "scaler = StandardScaler()\n",
    "X_scaled = scaler.fit_transform(X)\n",
    "\n",
    "# Split data into training/testing sets\n",
    "X_train, X_test, y_train, y_test = train_test_split(X_scaled, y, test_size=0.1, random_state=0)"
   ]
  },
  {
   "cell_type": "code",
   "execution_count": null,
   "id": "a5729ec2",
   "metadata": {},
   "outputs": [],
   "source": [
    "# Set array with all classifers to iterate through\n",
    "models = np.array([\n",
    "    MLPClassifier(hidden_layer_sizes=(5,), activation='logistic', random_state=0, max_iter=1000),\n",
    "    MLPClassifier(hidden_layer_sizes=(10, 10), activation='logistic', random_state=0, max_iter=1000),\n",
    "    MLPClassifier(hidden_layer_sizes=(5,), activation='relu', random_state=0, max_iter=1000),\n",
    "    MLPClassifier(hidden_layer_sizes=(10, 10), activation='relu', random_state=0, max_iter=1000)\n",
    "])\n",
    "\n",
    "# Initialize empty for shape\n",
    "all_models = np.zeros((4, 4))\n",
    "\n",
    "# Iterate through each model and get accuracy, precision, recall, and f1\n",
    "for i in range(len(models)):\n",
    "    model = models[i]\n",
    "    model.fit(X_train, y_train)\n",
    "    y_pred = model.predict(X_test)\n",
    "    accuracy = accuracy_score(y_test, y_pred)\n",
    "    precision = precision_score(y_test, y_pred)\n",
    "    recall = recall_score(y_test, y_pred)\n",
    "    f1 = f1_score(y_test, y_pred)\n",
    "    all_models[i] = [accuracy, precision, recall, f1]\n",
    "    \n",
    "print(all_models)"
   ]
  },
  {
   "cell_type": "code",
   "execution_count": null,
   "id": "d851601a",
   "metadata": {},
   "outputs": [],
   "source": [
    "# Define all possible combinations\n",
    "models = np.array([\n",
    "    MLPClassifier(hidden_layer_sizes=(5,), activation='logistic', random_state=0, max_iter=1000),\n",
    "    MLPClassifier(hidden_layer_sizes=(5,), activation='relu', random_state=0, max_iter=1000),\n",
    "    MLPClassifier(hidden_layer_sizes=(10,), activation='logistic', random_state=0, max_iter=1000),\n",
    "    MLPClassifier(hidden_layer_sizes=(10,), activation='relu', random_state=0, max_iter=1000),\n",
    "    MLPClassifier(hidden_layer_sizes=(5, 5), activation='logistic', random_state=0, max_iter=1000),\n",
    "    MLPClassifier(hidden_layer_sizes=(5, 5), activation='relu', random_state=0, max_iter=1000),\n",
    "    MLPClassifier(hidden_layer_sizes=(10, 10), activation='logistic', random_state=0, max_iter=1000),\n",
    "    MLPClassifier(hidden_layer_sizes=(10, 10), activation='relu', random_state=0, max_iter=1000)\n",
    "])\n",
    "\n",
    "# Initialize empty for shape\n",
    "all_models = np.zeros((8, 4))\n",
    "\n",
    "# Iterate through each model and get accuracy, precision, recall, and f1\n",
    "for i in range(len(models)):\n",
    "    model = models[i]\n",
    "    model.fit(X_train, y_train)\n",
    "    y_pred = model.predict(X_test)\n",
    "    accuracy = accuracy_score(y_test, y_pred)\n",
    "    precision = precision_score(y_test, y_pred)\n",
    "    recall = recall_score(y_test, y_pred)\n",
    "    f1 = f1_score(y_test, y_pred)\n",
    "    all_models[i] = [accuracy, precision, recall, f1]\n",
    "\n",
    "\n",
    "topIndex = np.argmax(all_models[:, 0])\n",
    "    \n",
    "top_model = all_models[topIndex]\n",
    "\n",
    "print(top_model)"
   ]
  }
 ],
 "metadata": {
  "kernelspec": {
   "display_name": "Python 3 (ipykernel)",
   "language": "python",
   "name": "python3"
  },
  "language_info": {
   "codemirror_mode": {
    "name": "ipython",
    "version": 3
   },
   "file_extension": ".py",
   "mimetype": "text/x-python",
   "name": "python",
   "nbconvert_exporter": "python",
   "pygments_lexer": "ipython3",
   "version": "3.11.4"
  }
 },
 "nbformat": 4,
 "nbformat_minor": 5
}
